{
 "cells": [
  {
   "cell_type": "markdown",
   "metadata": {},
   "source": [
    "1. Imprimir un listado con los números del 1 al 100 cada uno con su respectivo cuadrado."
   ]
  },
  {
   "cell_type": "code",
   "execution_count": null,
   "metadata": {},
   "outputs": [],
   "source": [
    "\n",
    "if __name__ == \"__main__\":\n",
    "    for i in range(1, 101):\n",
    "        cuadrado = i**2\n",
    "        print(f\"{i} → {cuadrado}\")"
   ]
  },
  {
   "cell_type": "markdown",
   "metadata": {},
   "source": [
    "2. Imprimir un listado con los números impares desde 1 hasta 999 y seguidamente otro listado con los números pares desde 2 hasta 1000."
   ]
  },
  {
   "cell_type": "code",
   "execution_count": null,
   "metadata": {},
   "outputs": [],
   "source": [
    "if __name__ == \"__main__\":\n",
    "    print(\"Impares:\")\n",
    "    for i in range(1, 1000, 2): # Como hace step de 2 comenzando por 1 mostrara los impares\n",
    "        print(i, end = \" \")\n",
    "\n",
    "    print(\"\\nPares:\")\n",
    "    for i in range(2, 1001, 2): # Como hace step de 2 comenzando por 2 mostrara los pares\n",
    "        print(i, end = \" \")"
   ]
  },
  {
   "cell_type": "markdown",
   "metadata": {},
   "source": [
    "3. Imprimir los números pares en forma descendente hasta 2 que son menores o iguales a un número natural n ≥ 2 dado"
   ]
  },
  {
   "cell_type": "code",
   "execution_count": null,
   "metadata": {},
   "outputs": [],
   "source": [
    "def lista(numero: int):\n",
    "    pares =[] # Lista vacia para guardar los numeros pares\n",
    "    if numero >= 2: # Condicion del numero que se ingrese, >= 2\n",
    "        for i in range(numero, 1, -1):\n",
    "            if i % 2 == 0:\n",
    "                pares.append(i) # Agregar a la lista los pares\n",
    "        return pares\n",
    "    else:\n",
    "        print(\"Error el numero ingresado no es >= que 2\")\n",
    "    \n",
    "if __name__ == \"__main__\":\n",
    "    numero = int(input(\"Ingrese un numero mayor o igual que 2: \"))\n",
    "    resultado = lista(numero)\n",
    "    print(resultado)"
   ]
  },
  {
   "cell_type": "markdown",
   "metadata": {},
   "source": [
    "4. Imprimir el factorial de un número natural n dado."
   ]
  },
  {
   "cell_type": "code",
   "execution_count": null,
   "metadata": {},
   "outputs": [],
   "source": [
    "factorial = 1\n",
    "\n",
    "def calcular_factorial(numero:int, factorial:int):\n",
    "    for i in range(numero, 0, -1): # For del numero ingresado hasta 1\n",
    "        factorial *= i # Multiplica todos los numeros de for\n",
    "    return factorial\n",
    "\n",
    "if __name__ == \"__main__\":\n",
    "    numero = int(input(\"Ingrese un numero natural: \"))\n",
    "    resultado = calcular_factorial(numero, factorial)\n",
    "    print(resultado)"
   ]
  },
  {
   "cell_type": "markdown",
   "metadata": {},
   "source": [
    "5. Implementar un programa que ingrese un número de 2 a 50 y muestre sus divisores."
   ]
  },
  {
   "cell_type": "code",
   "execution_count": null,
   "metadata": {},
   "outputs": [],
   "source": [
    "def hallar_divisores (numero:int):\n",
    "    divisores = [] # Lista vacia para guardar los divisores del numero\n",
    "    if numero >= 2 or numero <= 50: # Condicion del numero que se ingrese, [2, 50]\n",
    "        for i in range(1, numero + 1):\n",
    "            if numero % i == 0:\n",
    "                divisores.append(i) # Agregar a la lista los divisores del numero\n",
    "        return divisores\n",
    "    else:\n",
    "        print(\"Error, el numero no pertenece a: [2, 50]\")\n",
    "\n",
    "if __name__ == \"__main__\":\n",
    "    numero = int(input(\"Ingrese un numero entre 2 y 50: \"))\n",
    "    resultado = hallar_divisores(numero)\n",
    "    print(resultado)"
   ]
  },
  {
   "cell_type": "markdown",
   "metadata": {},
   "source": [
    "6. Implementar el algoritmo que muestre los números primos del 1 al 100."
   ]
  },
  {
   "cell_type": "code",
   "execution_count": null,
   "metadata": {},
   "outputs": [],
   "source": [
    "def hallar_primos():\n",
    "    primos =[] # Lista vacia para guardar los numeros primos\n",
    "    for i in range(1, 101): # Contar para cada numero de 1 a 100 cuantos divisores tiene\n",
    "        contador = 0\n",
    "        for j in range(1, i + 1): \n",
    "            if i % j == 0: # Si es divisor sumar 1\n",
    "                contador += 1\n",
    "        if contador == 2: # Un numero primo solo tiene 2 divisoles\n",
    "            primos.append(i) # Agregar a lista de primos\n",
    "    return primos\n",
    "\n",
    "if __name__ == \"__main__\":\n",
    "    resultado = hallar_primos()\n",
    "    print(resultado)"
   ]
  }
 ],
 "metadata": {
  "kernelspec": {
   "display_name": "Python 3",
   "language": "python",
   "name": "python3"
  },
  "language_info": {
   "codemirror_mode": {
    "name": "ipython",
    "version": 3
   },
   "file_extension": ".py",
   "mimetype": "text/x-python",
   "name": "python",
   "nbconvert_exporter": "python",
   "pygments_lexer": "ipython3",
   "version": "3.12.6"
  }
 },
 "nbformat": 4,
 "nbformat_minor": 2
}
